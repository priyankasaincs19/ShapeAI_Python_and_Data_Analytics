{
  "nbformat": 4,
  "nbformat_minor": 0,
  "metadata": {
    "colab": {
      "name": "Priyanka Saini_ShapeAI.ipynb",
      "provenance": [],
      "collapsed_sections": []
    },
    "kernelspec": {
      "name": "python3",
      "display_name": "Python 3"
    },
    "language_info": {
      "name": "python"
    }
  },
  "cells": [
    {
      "cell_type": "code",
      "metadata": {
        "colab": {
          "base_uri": "https://localhost:8080/"
        },
        "id": "_bzdNSv7MOiR",
        "outputId": "457ff067-0b4c-454c-c3f7-d5480471f765"
      },
      "source": [
        "import pandas as pd\n",
        "import numpy as np\n",
        "\n",
        "df = pd.DataFrame(pd.read_csv(\"/content/train (1).csv\"))\n",
        "df.head()\n",
        "\n",
        "df.shape\n",
        "\n",
        "x = df.isnull().sum()\n",
        "\n",
        "drop_col = x[x>(35/100 * df.shape[0])]\n",
        "drop_col\n",
        "\n",
        "y = drop_col.index\n",
        "\n",
        "df.drop(y,axis=1,inplace=True)\n",
        "df.isnull().sum()\n",
        "\n",
        "df.fillna(df.mean(),inplace=True)\n",
        "df.isnull().sum()\n",
        "\n",
        "df['Embarked'].describe()\n",
        "df['Embarked'].fillna('S',inplace=True)\n",
        "df.isnull().sum()\n",
        "\n",
        "df.corr()\n",
        "\n",
        "df['FamilySize'] = df['SibSp']+df['Parch']\n",
        "df.drop(['SibSp','Parch'],axis=1,inplace=True)\n",
        "df.corr()\n",
        "\n",
        "df['Alone'] = [0 if df['FamilySize'][i]>0 else 1 for i in df.index]\n",
        "df.head()\n",
        "\n",
        "df.groupby(['Alone'])['Survived'].mean()\n",
        "df[['Alone','Fare']].corr()\n",
        "\n",
        "df['Sex']= [0 if df['Sex'][i]=='male' else 1 for i in df.index]\n",
        "df.groupby(['Sex'])['Survived'].mean()\n",
        "\n",
        "df.groupby(['Embarked'])['Survived'].mean()"
      ],
      "execution_count": null,
      "outputs": [
        {
          "output_type": "execute_result",
          "data": {
            "text/plain": [
              "Embarked\n",
              "C    0.553571\n",
              "Q    0.389610\n",
              "S    0.339009\n",
              "Name: Survived, dtype: float64"
            ]
          },
          "metadata": {
            "tags": []
          },
          "execution_count": 8
        }
      ]
    },
    {
      "cell_type": "markdown",
      "metadata": {
        "id": "JiHerZ_iy41K"
      },
      "source": [
        "**Conclusions**\n",
        "\n",
        "\n",
        "\n",
        "*   Female passengers were prioritized over men.\n",
        "*   People with high class or rich people have higher survival rate than others.The hierarichy might have been followed while saving the passengers.\n",
        "*   Passengers travelling with their family have higher survival rate.\n",
        "*   Passengers who borded the ship at Cherbourg , survived more in porportion then the others.\n",
        "\n",
        "\n"
      ]
    }
  ]
}